{
 "cells": [
  {
   "cell_type": "code",
   "execution_count": 8,
   "id": "e4d3f7e8-5994-4897-9116-3454ce3f6791",
   "metadata": {},
   "outputs": [
    {
     "name": "stdout",
     "output_type": "stream",
     "text": [
      "実行中\n",
      "             date   time  uryou\n",
      "0      2024-03-18     三葛    0.0\n",
      "1      2024-03-18     三谷    0.0\n",
      "2      2024-03-18    上来原    0.0\n",
      "3      2024-03-18  上阿井＿河    0.0\n",
      "4      2024-03-18    下口羽    0.0\n",
      "...           ...    ...    ...\n",
      "39033  2024-10-31     馬木    0.0\n",
      "39034  2024-10-31     高田    0.0\n",
      "39035  2024-10-31   鳥上＿砂    0.0\n",
      "39036  2024-10-31     鷺浦    0.0\n",
      "39037  2024-10-31     鹿島    0.0\n",
      "\n",
      "[39038 rows x 3 columns]\n",
      "完了しました。\n"
     ]
    }
   ],
   "source": [
    "import os\n",
    "import pandas as pd\n",
    "\n",
    "print(\"実行中\")\n",
    "\n",
    "# CSVファイルが保存されているフォルダのパス\n",
    "folder_path = R\"C:\\Users\\umi08\\Desktop\\データ分析練習\\csv\\4日付ごとに集計\"  # ここを実際のフォルダパスに変更\n",
    "folder_path2 = R\"C:\\Users\\umi08\\Desktop\\データ分析練習\\csv\\5完成版\"  # ここを実際のフォルダパスに変更\n",
    "reference_file=R\"comp_merged_file.csv\"\n",
    "# フォルダ内のすべてのCSVファイルを取得\n",
    "csv_files = [file for file in os.listdir(folder_path) if file.endswith('.csv')]\n",
    "# データフレームのリストを作成して、すべてのCSVファイルを読み込み\n",
    "df_list = []\n",
    "for file in csv_files:\n",
    "    file_path = os.path.join(folder_path, file)\n",
    "    df = pd.read_csv(file_path,encoding=\"utf-8\")\n",
    "\n",
    "    for i in range(1,3,1):\n",
    "        df_list.append(df)\n",
    "\n",
    "\n",
    "\n",
    "\n",
    "# データフレームを1つに結合\n",
    "merged_df = pd.concat(df_list, ignore_index=False)\n",
    "print(df)\n",
    "# 結合されたデータフレームを新しいCSVファイルとして保存\n",
    "merged_df.to_csv(os.path.join(folder_path2, reference_file), index=False,encoding=\"shift_jis\")\n",
    "print(\"完了しました。\")"
   ]
  },
  {
   "cell_type": "code",
   "execution_count": null,
   "id": "ecb16887-cd5a-4800-9ae2-3e25f0dce517",
   "metadata": {},
   "outputs": [],
   "source": []
  },
  {
   "cell_type": "code",
   "execution_count": null,
   "id": "826fb395-9e47-478a-b4b8-913454b7d3ef",
   "metadata": {},
   "outputs": [],
   "source": []
  }
 ],
 "metadata": {
  "kernelspec": {
   "display_name": "Python 3 (ipykernel)",
   "language": "python",
   "name": "python3"
  },
  "language_info": {
   "codemirror_mode": {
    "name": "ipython",
    "version": 3
   },
   "file_extension": ".py",
   "mimetype": "text/x-python",
   "name": "python",
   "nbconvert_exporter": "python",
   "pygments_lexer": "ipython3",
   "version": "3.12.7"
  }
 },
 "nbformat": 4,
 "nbformat_minor": 5
}
