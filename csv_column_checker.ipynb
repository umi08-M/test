{
 "cells": [
  {
   "cell_type": "code",
   "execution_count": 1,
   "id": "6607cbd6-9a00-4f33-a1ab-6b939c07b2d7",
   "metadata": {},
   "outputs": [],
   "source": [
    "import os\n",
    "import pandas as pd\n",
    "\n",
    "folder_path = R\"C:\\Users\\umi08\\Desktop\\データ分析練習\\csv\\カラム2\"\n",
    "# フォルダ内のCSVファイル一覧を取得\n",
    "csv_files = [f for f in os.listdir(folder_path) if f.endswith('.csv')]\n",
    "if not csv_files:\n",
    "    print(\"CSVファイルが見つかりませんでした。\")"
   ]
  },
  {
   "cell_type": "code",
   "execution_count": 2,
   "id": "634afc6d-4ec5-44b5-9e39-4b44a5285a37",
   "metadata": {},
   "outputs": [],
   "source": [
    "# 最初のファイルを基準にカラム名を取得\n",
    "reference_file = csv_files[0]\n",
    "df1=pd.read_csv(os.path.join(folder_path, reference_file),encoding=\"shift-jis\", header=None)\n",
    "#カラム成型\n",
    "df1 = df1.drop([0,2,3], axis=0)\n",
    "for i in range(2,343,2):\n",
    "    df1 = df1.drop(i, axis=1)\n",
    "df1.columns = df1.iloc[0]\n",
    "# 1行目を削除\n",
    "df1 = df1.drop(df1.index[0])\n",
    "reference_columns = df1.columns.tolist()"
   ]
  },
  {
   "cell_type": "code",
   "execution_count": 3,
   "id": "ea1984d1-ac90-4c26-9501-172639ee8226",
   "metadata": {},
   "outputs": [
    {
     "name": "stdout",
     "output_type": "stream",
     "text": [
      "uryo_1h_202005.csv: カラム位置が一致しています。\n"
     ]
    }
   ],
   "source": [
    "# 各ファイルのカラム位置を確認\n",
    "for file in csv_files:\n",
    "    file_path = os.path.join(folder_path, file)\n",
    "    df = pd.read_csv(file_path,encoding=\"shift-jis\", header=None)\n",
    "    #カラム成型\n",
    "    df = df.drop([0,2,3], axis=0)\n",
    "    for i in range(2,345,2):\n",
    "        df = df.drop(i, axis=1)\n",
    "    df = df.drop(df.index[0])\n",
    "    reference_columns = df.columns.tolist()\n",
    "    current_columns = df.columns.tolist()\n",
    "#各ファイルのカラムが一致しているかチェック\n",
    "    if current_columns != reference_columns:\n",
    "        print(f\"カラム位置が異なるファイル: {file}\")\n",
    "    else:\n",
    "        print(f\"{file}: カラム位置が一致しています。\")"
   ]
  }
 ],
 "metadata": {
  "kernelspec": {
   "display_name": "Python 3 (ipykernel)",
   "language": "python",
   "name": "python3"
  },
  "language_info": {
   "codemirror_mode": {
    "name": "ipython",
    "version": 3
   },
   "file_extension": ".py",
   "mimetype": "text/x-python",
   "name": "python",
   "nbconvert_exporter": "python",
   "pygments_lexer": "ipython3",
   "version": "3.12.7"
  }
 },
 "nbformat": 4,
 "nbformat_minor": 5
}
