{
 "cells": [
  {
   "cell_type": "code",
   "execution_count": 13,
   "id": "f77760e5-be3d-49ca-a61e-f908bdc20245",
   "metadata": {},
   "outputs": [
    {
     "name": "stdout",
     "output_type": "stream",
     "text": [
      "実行中\n",
      "\n",
      "変更後のデータフレーム:\n",
      "                    観測所 time  suii\n",
      "86547  2022/09/22 23:50  岩崎橋  0.02\n",
      "86548  2022/09/22 23:40  岩崎橋  0.02\n",
      "86549  2022/09/22 23:30  岩崎橋  0.02\n",
      "86550  2022/09/22 23:20  岩崎橋  0.02\n",
      "86551  2022/09/22 23:10  岩崎橋  0.02\n",
      "データが変換され、C:\\Users\\umi08\\Desktop\\データ分析練習\\csv2\\3文字列→空白に変換後/null_format.csv に保存されました。\n"
     ]
    }
   ],
   "source": [
    "#データフレームの文字列を空白に変換するコード\n",
    "\n",
    "import os  # OS操作用モジュールをインポート\n",
    "import pandas as pd  # データ操作・解析用ライブラリをインポート\n",
    "\n",
    "print(\"実行中\")  # 実行開始を知らせるメッセージを表示\n",
    "\n",
    "# フォルダパスを指定して実行\n",
    "folder_path = R\"C:\\Users\\umi08\\Desktop\\データ分析練習\\csv2\\3文字列→空白に変換後\"  # CSVファイルが保存されているフォルダのパスを指定\n",
    "folder_path2 = R\"C:\\Users\\umi08\\Desktop\\データ分析練習\\csv2\\2表変換後\"\n",
    "# フォルダ内のCSVファイル一覧を取得\n",
    "csv_files = [f for f in os.listdir(folder_path2) if f.endswith('.csv')]  # 指定フォルダ内のCSVファイルをリストアップ\n",
    "\n",
    "# CSVファイルが見つからなかった場合の処理\n",
    "if not csv_files:\n",
    "    print(\"CSVファイルが見つかりませんでした。\")  # CSVファイルが見つからなかった場合のメッセージを表示\n",
    "\n",
    "# 見つかった各CSVファイルについて処理を実行\n",
    "i=0\n",
    "for file in csv_files:\n",
    "    i=i+1\n",
    "    file_path = os.path.join(folder_path2, file)  # ファイル名をフォルダパスと結合してフルパスを作成\n",
    "    \n",
    "    df = pd.read_csv(file_path,dtype={'time': str,'suii': str})  # CSVファイルをPandas DataFrameに読み込む\n",
    "\n",
    "    # 数値以外を空白に変換する関数\n",
    "    def convert_to_blank(value):\n",
    "        return value if pd.api.types.is_number(value) else \"\"\n",
    "    \n",
    "    # 特定の列名を指定して数値以外を空白に変換\n",
    "    target_column = \"suii\"  # 変更する列名を指定\n",
    "    if target_column in df.columns:\n",
    "        df[target_column] = df[target_column].apply(pd.to_numeric, errors='coerce')#すべての値を数値型に変換\n",
    "        df[target_column] = df[target_column].apply(convert_to_blank)#文字列のみnullに変換\n",
    "        #df['観測所'] = df['観測所'].apply(convert_to_blank)#文字列のみnullに変換\n",
    "        df = df[df['time'] != 'index']#time行のindex値の行を削除\n",
    "        df=df.dropna()#null行を削除\n",
    "    else:\n",
    "        print(f\"指定した列 '{target_column}' はデータフレームに存在しません。\")\n",
    "\n",
    "    print(\"\\n変更後のデータフレーム:\")\n",
    "    print(df.iloc[0:5])\n",
    "\n",
    "    # 結果を新しいCSVファイルに保存\n",
    "    output_file = folder_path+'/null_format.csv'\n",
    "    df.to_csv(output_file, index=False)\n",
    "    \n",
    "    print(f\"データが変換され、{output_file} に保存されました。\")"
   ]
  },
  {
   "cell_type": "code",
   "execution_count": null,
   "id": "d7027164-8499-4aea-a038-7be024852a8f",
   "metadata": {},
   "outputs": [],
   "source": []
  },
  {
   "cell_type": "code",
   "execution_count": null,
   "id": "a9967400-3996-4411-8394-517aa0f03338",
   "metadata": {},
   "outputs": [],
   "source": []
  }
 ],
 "metadata": {
  "kernelspec": {
   "display_name": "Python 3 (ipykernel)",
   "language": "python",
   "name": "python3"
  },
  "language_info": {
   "codemirror_mode": {
    "name": "ipython",
    "version": 3
   },
   "file_extension": ".py",
   "mimetype": "text/x-python",
   "name": "python",
   "nbconvert_exporter": "python",
   "pygments_lexer": "ipython3",
   "version": "3.12.7"
  }
 },
 "nbformat": 4,
 "nbformat_minor": 5
}
