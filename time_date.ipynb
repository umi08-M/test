{
 "cells": [
  {
   "cell_type": "code",
   "execution_count": 8,
   "id": "1760770a-9191-4f13-b939-f6d0678ffa71",
   "metadata": {},
   "outputs": [
    {
     "name": "stdout",
     "output_type": "stream",
     "text": [
      "実行中\n",
      "                        観測所 time  suii        date\n",
      "0       2022-09-22 23:50:00  岩崎橋  0.02  2022-09-22\n",
      "1       2022-09-22 23:40:00  岩崎橋  0.02  2022-09-22\n",
      "2       2022-09-22 23:30:00  岩崎橋  0.02  2022-09-22\n",
      "3       2022-09-22 23:20:00  岩崎橋  0.02  2022-09-22\n",
      "4       2022-09-22 23:10:00  岩崎橋  0.02  2022-09-22\n",
      "...                     ...  ...   ...         ...\n",
      "8130348 2024-12-01 00:40:00   美田  1.55  2024-12-01\n",
      "8130349 2024-12-01 00:30:00   美田  1.64  2024-12-01\n",
      "8130350 2024-12-01 00:20:00   美田  1.55  2024-12-01\n",
      "8130351 2024-12-01 00:10:00   美田  1.53  2024-12-01\n",
      "8130352 2024-12-01 00:00:00   美田  1.64  2024-12-01\n",
      "\n",
      "[8130262 rows x 4 columns]\n",
      "             date  time    suii\n",
      "0      2022-09-22   一文橋   70.94\n",
      "1      2022-09-22   三宮橋   77.73\n",
      "2      2022-09-22  三成大橋   33.16\n",
      "3      2022-09-22    三隅  -31.91\n",
      "4      2022-09-22   下口羽   75.85\n",
      "...           ...   ...     ...\n",
      "56699  2024-12-01    長久  306.95\n",
      "56700  2024-12-01   飯梨橋  105.66\n",
      "56701  2024-12-01   馬橋川  -10.65\n",
      "56702  2024-12-01   高瀬川   24.25\n",
      "56703  2024-12-01    鹿島   46.12\n",
      "\n",
      "[56704 rows x 3 columns]\n",
      "完了しました。\n"
     ]
    }
   ],
   "source": [
    "#時刻データを日付ごとに集計するコード\n",
    "import os\n",
    "import pandas as pd\n",
    "\n",
    "print('実行中')\n",
    "\n",
    "folder_path = R\"C:\\Users\\umi08\\Desktop\\データ分析練習\\csv2\\3文字列→空白に変換後\"\n",
    "folder_path2 = R\"C:\\Users\\umi08\\Desktop\\データ分析練習\\csv2\\4日付ごとに集計\"\n",
    "reference_file=R\"date_file.csv\"\n",
    "# フォルダ内のすべてのCSVファイルを取得\n",
    "csv_files = [file for file in os.listdir(folder_path) if file.endswith('.csv')]\n",
    "# データフレームのリストを作成して、すべてのCSVファイルを読み込み\n",
    "df_list = []\n",
    "i=0\n",
    "for file in csv_files:\n",
    "    i=i+1\n",
    "    file_path = os.path.join(folder_path, file)\n",
    "    df = pd.read_csv(file_path,encoding=\"utf-8\")\n",
    "\n",
    "    df = df[df['観測所'] != '氾濫危険水位']\n",
    "    df[\"観測所\"] = pd.to_datetime(df[\"観測所\"])\n",
    "\n",
    "    # 日付の部分だけを抽出\n",
    "    df['date'] = df['観測所'].dt.date\n",
    "    print(df)\n",
    "\n",
    "    # 日付ごとに集計 (例: 数値データが 'value' 列にある場合)\n",
    "    df = df.groupby(['date','time'], as_index=False)['suii'].sum()\n",
    "    #df.dropna()\n",
    "    print(df)\n",
    "    # 結果を新しいCSVファイルに保存\n",
    "    output_file = folder_path2+'/date_format.csv'\n",
    "    df.to_csv(output_file, index=False,encoding=\"shift_jis\")\n",
    "print(\"完了しました。\")"
   ]
  },
  {
   "cell_type": "code",
   "execution_count": null,
   "id": "b4deaeb4-296a-4e74-98ae-4950e32f0948",
   "metadata": {},
   "outputs": [],
   "source": []
  }
 ],
 "metadata": {
  "kernelspec": {
   "display_name": "Python 3 (ipykernel)",
   "language": "python",
   "name": "python3"
  },
  "language_info": {
   "codemirror_mode": {
    "name": "ipython",
    "version": 3
   },
   "file_extension": ".py",
   "mimetype": "text/x-python",
   "name": "python",
   "nbconvert_exporter": "python",
   "pygments_lexer": "ipython3",
   "version": "3.12.7"
  }
 },
 "nbformat": 4,
 "nbformat_minor": 5
}
