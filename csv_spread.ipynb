{
 "cells": [
  {
   "cell_type": "code",
   "execution_count": 5,
   "id": "9fccdf0b-c88a-4521-80e6-c84ae4a1b505",
   "metadata": {},
   "outputs": [
    {
     "name": "stdout",
     "output_type": "stream",
     "text": [
      "実行中\n"
     ]
    },
    {
     "name": "stderr",
     "output_type": "stream",
     "text": [
      "C:\\Users\\umi08\\AppData\\Local\\Temp\\ipykernel_27076\\990549895.py:25: DtypeWarning: Columns (1,2,3,4,5,6,7,8,9,10,11,12,13,15,16,17,18,19,20,21,22,23,24,25,26,27,28,29,30,31,32,33,34,35,36,37,38,39,40,41,42,43,44,45,46,47,48,49,50,51,52,53,54,55,56,57,58,59,60,61,62,63,64,65,66,67,68,69,70,71,72,73,74,75,76,77,78,79,80,81,82,83,84,85,86,87,88,89,90,91,92,93,94,95,96,97,98,99,100,101,102,103,104,106,107,108,109,111,114,116,117,120,121,122,124,125,130,133,134,136,138,139,140,141,142,143,144) have mixed types. Specify dtype option on import or set low_memory=False.\n",
      "  df = pd.read_csv(file_path)  # CSVファイルをPandas DataFrameに読み込む\n"
     ]
    },
    {
     "name": "stdout",
     "output_type": "stream",
     "text": [
      "                       観測所   time suii\n",
      "0         2022/09/22 23:50  index    1\n",
      "1         2022/09/22 23:40  index    2\n",
      "2         2022/09/22 23:30  index    3\n",
      "3         2022/09/22 23:20  index    4\n",
      "4         2022/09/22 23:10  index    5\n",
      "...                    ...    ...  ...\n",
      "12549310  2024/12/01 00:40    NaN  NaN\n",
      "12549311  2024/12/01 00:30    NaN  NaN\n",
      "12549312  2024/12/01 00:20    NaN  NaN\n",
      "12549313  2024/12/01 00:10    NaN  NaN\n",
      "12549314  2024/12/01 00:00    NaN  NaN\n",
      "\n",
      "[12549315 rows x 3 columns]\n",
      "データが変換され、C:\\Users\\umi08\\Desktop\\データ分析練習\\csv2\\2表変換後/table_format.csv に保存されました。\n"
     ]
    }
   ],
   "source": [
    "#マトリクス形式のCSVファイルを表形式に変換するプログラム\n",
    "import os\n",
    "import pandas as pd\n",
    "import numpy as np\n",
    "\n",
    "print(\"実行中\")\n",
    "\n",
    "folder_path = R\"C:\\Users\\umi08\\Desktop\\データ分析練習\\csv2\\1大量のファイルを結合\"\n",
    "folder_path2 = R\"C:\\Users\\umi08\\Desktop\\データ分析練習\\csv2\\2表変換後\"\n",
    "\n",
    "# フォルダ内のCSVファイル一覧を取得\n",
    "csv_files = [f for f in os.listdir(folder_path) if f.endswith('.csv')]\n",
    "\n",
    "# CSVファイルが見つからなかった場合の処理\n",
    "if not csv_files:\n",
    "    print(\"CSVファイルが見つかりませんでした。\")\n",
    "\n",
    "i=0\n",
    "for file in csv_files:\n",
    "    i=i+1\n",
    "    file_path = os.path.join(folder_path, file)\n",
    "    df = pd.read_csv(file_path)\n",
    "    \n",
    "    # 1行目をカラム名として設定\n",
    "    df.columns = df.iloc[0]  # DataFrameの1行目を列名として設定\n",
    "    df = df.drop(df.index[0])  # 1行目を削除してデータ部分のみを残す\n",
    "\n",
    "    # マトリクス形式を表形式に変換\n",
    "    table_df = df.reset_index().melt( id_vars=[\"観測所\"],var_name=\"time\", value_name=\"suii\")\n",
    "    # 結果を新しいCSVファイルに保存\n",
    "    output_file = folder_path2+'/table_format.csv'\n",
    "    table_df.to_csv(output_file, index=False)\n",
    "    print(table_df)\n",
    "    \n",
    "    print(f\"データが変換され、{output_file} に保存されました。\")\n"
   ]
  },
  {
   "cell_type": "code",
   "execution_count": null,
   "id": "c45de4bb-38b8-40c2-85f8-d1d23ed2133e",
   "metadata": {},
   "outputs": [],
   "source": []
  },
  {
   "cell_type": "code",
   "execution_count": null,
   "id": "bb024e44-e453-4553-b252-3d5d92934fb4",
   "metadata": {},
   "outputs": [],
   "source": []
  }
 ],
 "metadata": {
  "kernelspec": {
   "display_name": "Python 3 (ipykernel)",
   "language": "python",
   "name": "python3"
  },
  "language_info": {
   "codemirror_mode": {
    "name": "ipython",
    "version": 3
   },
   "file_extension": ".py",
   "mimetype": "text/x-python",
   "name": "python",
   "nbconvert_exporter": "python",
   "pygments_lexer": "ipython3",
   "version": "3.12.7"
  }
 },
 "nbformat": 4,
 "nbformat_minor": 5
}
