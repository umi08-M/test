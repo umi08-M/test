{
 "cells": [
  {
   "cell_type": "code",
   "execution_count": 55,
   "id": "276743ab-ec45-4e8d-8463-7b65526c3b07",
   "metadata": {},
   "outputs": [
    {
     "name": "stdout",
     "output_type": "stream",
     "text": [
      "実行中\n",
      "0                 観測所   岩崎橋    大谷   玉湯川    鹿島    馬橋川  比津川水門上流  比津川水門下流  \\\n",
      "0                 観測所   岩崎橋    大谷   玉湯川    鹿島    馬橋川  比津川水門上流  比津川水門下流   \n",
      "7    2022/09/22 23:50  0.02    保守  0.02  0.40  -0.04     0.18     0.18   \n",
      "8    2022/09/22 23:40  0.02    保守  0.02  0.41  -0.04     0.18     0.18   \n",
      "9    2022/09/22 23:30  0.02    保守  0.02  0.44  -0.04     0.18     0.18   \n",
      "10   2022/09/22 23:20  0.02    保守  0.02  0.42  -0.05     0.18     0.18   \n",
      "..                ...   ...   ...   ...   ...    ...      ...      ...   \n",
      "146  2024/12/01 00:40  0.00  0.24  0.07  0.41  -0.01     0.24     0.23   \n",
      "147  2024/12/01 00:30  0.00  0.25  0.07  0.39  -0.03     0.24     0.23   \n",
      "148  2024/12/01 00:20  0.00  0.25  0.07  0.39  -0.02     0.23     0.23   \n",
      "149  2024/12/01 00:10  0.00  0.24  0.07  0.37  -0.01     0.23     0.23   \n",
      "150  2024/12/01 00:00  0.00  0.25  0.07  0.40  -0.04     0.23     0.23   \n",
      "\n",
      "0    北田川水門上流  北田川水門下流  ...  NaN  NaN  NaN  NaN  NaN  NaN  NaN  NaN  NaN  NaN  \n",
      "0    北田川水門上流  北田川水門下流  ...  NaN  NaN  NaN  NaN  NaN  NaN  NaN  NaN  NaN  NaN  \n",
      "7       0.14     0.30  ...  NaN  NaN  NaN  NaN  NaN  NaN  NaN  NaN  NaN  NaN  \n",
      "8       0.14     0.30  ...  NaN  NaN  NaN  NaN  NaN  NaN  NaN  NaN  NaN  NaN  \n",
      "9       0.14     0.30  ...  NaN  NaN  NaN  NaN  NaN  NaN  NaN  NaN  NaN  NaN  \n",
      "10      0.14     0.30  ...  NaN  NaN  NaN  NaN  NaN  NaN  NaN  NaN  NaN  NaN  \n",
      "..       ...      ...  ...  ...  ...  ...  ...  ...  ...  ...  ...  ...  ...  \n",
      "146     0.24     0.38  ...  NaN  NaN  NaN  NaN  NaN  NaN  NaN  NaN  NaN  NaN  \n",
      "147     0.24     0.38  ...  NaN  NaN  NaN  NaN  NaN  NaN  NaN  NaN  NaN  NaN  \n",
      "148     0.23     0.38  ...  NaN  NaN  NaN  NaN  NaN  NaN  NaN  NaN  NaN  NaN  \n",
      "149     0.23     0.38  ...  NaN  NaN  NaN  NaN  NaN  NaN  NaN  NaN  NaN  NaN  \n",
      "150     0.23     0.38  ...  NaN  NaN  NaN  NaN  NaN  NaN  NaN  NaN  NaN  NaN  \n",
      "\n",
      "[86548 rows x 145 columns]\n",
      "完了しました。\n"
     ]
    }
   ],
   "source": [
    "import os\n",
    "import pandas as pd\n",
    "\n",
    "print(\"実行中\")\n",
    "\n",
    "# CSVファイルが保存されているフォルダのパス\n",
    "folder_path = R\"C:\\Users\\umi08\\Desktop\\データ分析練習\\【島根県】月毎の水位データ\"  # ここを実際のフォルダパスに変更\n",
    "folder_path2 = R\"C:\\Users\\umi08\\Desktop\\データ分析練習\\csv2\\1大量のファイルを結合\"\n",
    "reference_file=R\"merged_file.csv\"\n",
    "# フォルダ内のすべてのCSVファイルを取得\n",
    "csv_files = [file for file in os.listdir(folder_path) if file.endswith('.csv')]\n",
    "# データフレームのリストを作成して、すべてのCSVファイルを読み込み\n",
    "df_list = []\n",
    "j=0\n",
    "for file in csv_files:\n",
    "    j=j+1\n",
    "    file_path = os.path.join(folder_path, file)\n",
    "    df = pd.read_csv(file_path,encoding=\"shift-jis\", header=None)\n",
    "    df = df.drop([1,2,3,4,5,6])\n",
    "    if not j==1:\n",
    "        #df.columns = df.iloc[0]\n",
    "        df = df.drop(0)\n",
    "    #print(df)\n",
    "    #for i in range(1,99,1):\n",
    "    df_list.append(df)\n",
    "    \n",
    "#print(df_list)\n",
    "# データフレームを1つに結合\n",
    "merged_df = pd.concat(df_list, ignore_index=False)\n",
    "#merged_df = merged_df.drop(0)\n",
    "merged_df.columns = merged_df.iloc[0]\n",
    "print(merged_df)\n",
    "# 結合されたデータフレームを新しいCSVファイルとして保存\n",
    "merged_df.to_csv(os.path.join(folder_path2, reference_file), index=False)\n",
    "print(\"完了しました。\")"
   ]
  },
  {
   "cell_type": "code",
   "execution_count": null,
   "id": "ea4e4baa-475e-47ee-bb04-9a3f713e82bd",
   "metadata": {},
   "outputs": [],
   "source": []
  }
 ],
 "metadata": {
  "kernelspec": {
   "display_name": "Python 3 (ipykernel)",
   "language": "python",
   "name": "python3"
  },
  "language_info": {
   "codemirror_mode": {
    "name": "ipython",
    "version": 3
   },
   "file_extension": ".py",
   "mimetype": "text/x-python",
   "name": "python",
   "nbconvert_exporter": "python",
   "pygments_lexer": "ipython3",
   "version": "3.12.7"
  }
 },
 "nbformat": 4,
 "nbformat_minor": 5
}
